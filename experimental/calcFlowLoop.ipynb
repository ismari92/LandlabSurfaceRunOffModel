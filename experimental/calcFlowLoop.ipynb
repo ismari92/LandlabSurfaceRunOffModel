{
 "cells": [
  {
   "cell_type": "raw",
   "metadata": {},
   "source": [
    "\\documentclass[english,article,a4paper]{memoir}\n",
    "\n",
    "% input the common preamble content (required by the ipnb2latex converter)\n",
    "\\input{header.tex}\n",
    "\\counterwithout{section}{chapter}\n",
    "\\setsecnumformat{}\n",
    "\n",
    "%and finally the document begin.\n",
    "\\begin{document}"
   ]
  },
  {
   "cell_type": "code",
   "execution_count": 3,
   "metadata": {},
   "outputs": [],
   "source": [
    "import sys\n",
    "import os.path\n",
    "import numpy as np\n",
    "from landlab import imshow_grid\n",
    "from landlab import RasterModelGrid\n",
    "from matplotlib import pyplot as plt\n",
    "\n",
    "#use the utility functions\n",
    "utilspath=os.path.join(\"../\",\"util\")\n",
    "sys.path = [utilspath]+sys.path\n",
    "import myLandlabTools as tools\n",
    "\n",
    "topopath=os.path.join(\"../\",\"topographies\")\n",
    "\n",
    "%matplotlib inline"
   ]
  },
  {
   "cell_type": "code",
   "execution_count": 4,
   "metadata": {},
   "outputs": [],
   "source": [
    "demDict = {\n",
    "    'valley2' : ['valley1.98_[100,100,10][2.83,0.00,-2.83,270.00].asc'],\n",
    "    'valley5' : ['valley4.96_[100,100,10][7.07,0.00,-7.07,270.00].asc'],\n",
    "    'valley10' : ['valley10.00_[100,100,10][14.14,0.00,-14.14,270.00].asc'],\n",
    "    'valley15' : ['valley15.20_[100,100,10][21.21,0.00,-21.21,270.00].asc'],\n",
    "    'valley20' : ['valley20.64_[100,100,10][28.28,0.00,-28.28,270.00].asc'],\n",
    "    'valley25' : ['valley26.41_[100,100,10][35.36,0.00,-35.36,270.00].asc'],\n",
    " }\n",
    "\n",
    "# soil infiltration  \n",
    "# from Gowdish and Munoz & Carsel and Parrish\n",
    "hydCondDict = {\n",
    "            'cond1' :[1.7e-7, 'clay'],\n",
    "            'cond2' :[2.7e-7, 'silty clay'],\n",
    "            'cond3' :[3.3e-7, 'sandy clay'],\n",
    "            'cond4' :[5.5e-7, 'silty clay loam'],\n",
    "            'cond5' :[7.2e-7, 'clay loam'],           \n",
    "            'cond6' :[8.3e-7, 'sandy clay loam'],\n",
    "            'cond7' :[1.8e-6, 'silt loam' ],          \n",
    "            'cond8' :[3.6e-6, 'loam'],               \n",
    "            'cond9' :[6.1e-6, 'sandy loam' ],         \n",
    "            'cond10':[1.6e-5, 'loamy sand'],      \n",
    "}\n",
    "\n",
    "\n",
    "roughnessDict = {\n",
    "    'clean': [0.03],\n",
    "    'mediummix': [0.05],\n",
    "    'overgrown': [0.07],\n",
    "}\n",
    "\n",
    "# Storm [starting_precip_mmhr, storm duration s]\n",
    "#\n",
    "# A constant precipitation rate can be passed to the OverlandFlow class, where precipitation persists for the \n",
    "# entire model run. Alternatively, a single event can be set within the time loop, and then water can drain \n",
    "# from the system when the precipitation event is over.\n",
    "stormDict = {\n",
    "    'high':[30., 17100.],\n",
    "    'low':[15., 17100.],\n",
    "    'intense': [50., 900.],\n",
    "    'intense1': [50., 3600.],\n",
    "    'intense2': [100., 900.],\n",
    "    '1995-11-18':[15.6, 17100.],\n",
    "    '1997-03-11':[34.8, 4500.],\n",
    "    '2009-02-10':[18.0, 7200.],\n",
    "    '2010-12-08':[16.8, 5400.],\n",
    "    '2012-11-24':[16.8, 3900],\n",
    "}\n"
   ]
  },
  {
   "cell_type": "code",
   "execution_count": 5,
   "metadata": {},
   "outputs": [],
   "source": [
    "# set simulation parameters - use the dictionaries in the previous block to set up the scenario\n",
    "     \n",
    "# storm\n",
    "storm_flag = 'intense1'             \n",
    "\n",
    "# Water column height above the surface previously absorbed into the soil.\n",
    "# Do NOT set to zero\n",
    "soilWaterInfiltrationDepth = 0.1\n",
    "\n",
    "# Depth of water above the surface - a value close to 0 is recommended here\n",
    "surfaceWaterDepth = 1e-8\n",
    "\n",
    "# simulation run time [hours]\n",
    "runHours = 3.      \n",
    "# interval to report progress [hours]\n",
    "reportInterval = 1.  \n",
    "\n",
    "# Storm  \n",
    "starting_precip_mmhr = stormDict[storm_flag][0]\n",
    "storm_duration = stormDict[storm_flag][1] \n",
    "\n",
    "# Manning n\n",
    "deltaM = 0.01\n",
    "manningRange = np.arange(roughnessDict['clean'][0],roughnessDict['overgrown'][0]+deltaM, deltaM)\n",
    "\n",
    "# Hydraulic conductivity\n",
    "hydcondRange = []\n",
    "soilType = []\n",
    "for key in hydCondDict:\n",
    "    hydcondRange.append(hydCondDict[key][0])\n",
    "    soilType.append(hydCondDict[key][1])\n",
    "    \n",
    "soilInf = True"
   ]
  },
  {
   "cell_type": "code",
   "execution_count": 6,
   "metadata": {
    "scrolled": false
   },
   "outputs": [
    {
     "name": "stdout",
     "output_type": "stream",
     "text": [
      "valley1.98_[100,100,10][2.83,0.00,-2.83,270.00].asc\n",
      "valley4.96_[100,100,10][7.07,0.00,-7.07,270.00].asc\n",
      "valley10.00_[100,100,10][14.14,0.00,-14.14,270.00].asc\n",
      "valley15.20_[100,100,10][21.21,0.00,-21.21,270.00].asc\n",
      "valley20.64_[100,100,10][28.28,0.00,-28.28,270.00].asc\n",
      "valley26.41_[100,100,10][35.36,0.00,-35.36,270.00].asc\n"
     ]
    }
   ],
   "source": [
    "# Loop over all combinations of input parameters\n",
    "\n",
    "# For each dem in the list\n",
    "for key in demDict:\n",
    "    dem = demDict[key][0]\n",
    "    print(dem)\n",
    "    \n",
    "    # set boundary and monitor link\n",
    "    \n",
    "    if 'gully' in key:\n",
    "        boundary = 'noData'               \n",
    "        outletNode = 296\n",
    "        monitorLink = 590 \n",
    "    elif 'valley' in key:\n",
    "        boundary = 'setSelf'  \n",
    "        outletNode = 9898\n",
    "        monitorLink = 19500      # links for node 9898 : 19600 19699 19599 19500    \n",
    "    else:\n",
    "        if 'flat' in key:\n",
    "            boundary = 'allOpen'   \n",
    "            outletNode = 465\n",
    "            monitorLink = 870      # links for node 465 : 900 929 899 870 \n",
    "        else:\n",
    "            boundary = 'rightOpen'  \n",
    "            outletNode = 449\n",
    "            monitorLink = 854      \n",
    "            \n",
    "    # for each hydraulic conductivity\n",
    "    for min_h, soil_type in zip(hydcondRange,soilType):\n",
    "\n",
    "        # for each roughness value \n",
    "        for mannings_n in manningRange:\n",
    "\n",
    "            rmg, hydraulic_conductivity, discharge_at_outlet, hydrograph_time, h, d = tools.runModel(\n",
    "                                    topopath, dem, \n",
    "                                    soil_type, min_h, min_h, \n",
    "                                    starting_precip_mmhr, storm_duration, \n",
    "                                    soilWaterInfiltrationDepth, surfaceWaterDepth,\n",
    "                                    mannings_n,\n",
    "                                    boundary, monitorLink,  \n",
    "                                    runHours, reportInterval,\n",
    "                                    soilInf = soilInf, sinkFiller = False, \n",
    "                                    showProgress = False, showPlots = False,\n",
    "                                    outlet_node = outletNode)\n",
    "\n",
    "            fileName = tools.getLLFilename(key,mannings_n,min_h,soilWaterInfiltrationDepth)\n",
    "            tools.writeLLData(fileName,hydrograph_time,discharge_at_outlet,h,d)\n"
   ]
  },
  {
   "cell_type": "code",
   "execution_count": null,
   "metadata": {
    "collapsed": true
   },
   "outputs": [],
   "source": []
  },
  {
   "cell_type": "code",
   "execution_count": null,
   "metadata": {
    "collapsed": true
   },
   "outputs": [],
   "source": []
  }
 ],
 "metadata": {
  "anaconda-cloud": {},
  "kernelspec": {
   "display_name": "Python 3",
   "language": "python",
   "name": "python3"
  },
  "language_info": {
   "codemirror_mode": {
    "name": "ipython",
    "version": 3
   },
   "file_extension": ".py",
   "mimetype": "text/x-python",
   "name": "python",
   "nbconvert_exporter": "python",
   "pygments_lexer": "ipython3",
   "version": "3.6.4"
  }
 },
 "nbformat": 4,
 "nbformat_minor": 2
}
