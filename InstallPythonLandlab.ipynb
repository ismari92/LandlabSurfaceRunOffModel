{
 "cells": [
  {
   "cell_type": "markdown",
   "metadata": {
    "run_control": {
     "frozen": false,
     "read_only": false
    }
   },
   "source": [
    "# Installing Python and LandLab\n",
    "\n",
    "If you are not using many other Python applications to a basic installation. If you are using a number of different large Python applications (of which LandLab will be one) consider using environments to avoid requirements conflicts.\n",
    "\n",
    "\n",
    " "
   ]
  },
  {
   "cell_type": "markdown",
   "metadata": {
    "collapsed": true,
    "run_control": {
     "frozen": false,
     "read_only": false
    }
   },
   "source": [
    "## Basic installation \n",
    "\n",
    "\n",
    "If you use Python for other purposes as well, do not use this procedure.\n",
    "Only use this if you don't mind downgrading some Python packages. \n",
    "\n",
    "1. install [Anaconda for Python 3.X](https://www.continuum.io/downloads)\n",
    "\n",
    "1. install [LandLab](https://github.com/landlab/landlab/wiki/Installing-Landlab-with-Anaconda)  \n",
    "\n",
    "        conda install landlab -c landlab -c conda-forge"
   ]
  },
  {
   "cell_type": "markdown",
   "metadata": {
    "collapsed": true,
    "run_control": {
     "frozen": false,
     "read_only": false
    }
   },
   "source": [
    "## Installing an a conda environment\n",
    "\n",
    "The conda LandLab installation downgrades some Python packages, so if maintaining a proper configuration is important to you, consider using a dedicated conda environment for LandLab.\n",
    "\n",
    "http://conda.pydata.org/docs/using/envs.html  \n",
    "https://nbviewer.jupyter.org/github/NelisW/ComputationalRadiometry/blob/master/02-PythonWhirlwindCheatSheet.ipynb#Installing-Python\n",
    "\n",
    "\n",
    "### Installing LandLab in a conda environment\n",
    "\n",
    "**Do the following only once to install LandLab**.\n",
    "\n",
    "Assuming that you are using the Anaconda Python distribution. This procedure will install a new Python 3.6 environment called `landlab` where you then install the LandLab package.  \n",
    "\n",
    "Following this procedure the LandLab installation is only available in its own `landlab` environment and it will not affect any of your other Python code.\n",
    "\n",
    "1.  Open a new command window.\n",
    "\n",
    "1.  Type the following at the command prompt:\n",
    "\n",
    "        conda update conda\n",
    "        conda create --name landlab python=3.6 anaconda\n",
    "        activate landlab\n",
    "        conda install landlab -c landlab -c conda-forge\n",
    "        deactivate landlab\n",
    "\n",
    "1. Close the command window.\n",
    "\n",
    "\n",
    "### Using LandLab in a conda environment\n",
    "\n",
    "\n",
    "Once you have installed the conda environment and LandLab the workflow is simple:\n",
    "\n",
    "\n",
    " 1.  Open a new command window.\n",
    "\n",
    "1. Activate the new environment by typing the following line (using the name for the newly created environment).  \n",
    "\n",
    "        activate landlab\n",
    "        \n",
    "      The command console should now indicate that you are in the newly created environment.      \n",
    "  \n",
    "      \n",
    "1.  Do whatever in LandLab. This includes opening Jupyter notebooks **in the `landlab` environment:**\n",
    "\n",
    "        jupyter notebook\n",
    "\n",
    "    Note that the `landlab` package is only available in notebooks when jupyter is started in the `landlab` environment.\n",
    "\n",
    "\n",
    "1.  When done, deactivate the environment\n",
    "\n",
    "        deactivate landlab\n",
    "\n",
    "1. Close the command window.\n",
    "       "
   ]
  },
  {
   "cell_type": "code",
   "execution_count": null,
   "metadata": {
    "collapsed": true
   },
   "outputs": [],
   "source": []
  }
 ],
 "metadata": {
  "kernelspec": {
   "display_name": "Python 3",
   "language": "python",
   "name": "python3"
  },
  "language_info": {
   "codemirror_mode": {
    "name": "ipython",
    "version": 3
   },
   "file_extension": ".py",
   "mimetype": "text/x-python",
   "name": "python",
   "nbconvert_exporter": "python",
   "pygments_lexer": "ipython3",
   "version": "3.6.1"
  }
 },
 "nbformat": 4,
 "nbformat_minor": 2
}
